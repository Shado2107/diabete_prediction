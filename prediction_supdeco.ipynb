{
 "cells": [
  {
   "cell_type": "markdown",
   "metadata": {},
   "source": [
    "# ⏺️ Diabete prediction "
   ]
  },
  {
   "cell_type": "markdown",
   "metadata": {},
   "source": [
    "*Pavel d'ALMEIDA*"
   ]
  },
  {
   "cell_type": "markdown",
   "metadata": {},
   "source": [
    "##### contexte et problématique"
   ]
  },
  {
   "cell_type": "markdown",
   "metadata": {},
   "source": [
    "Cet ensemble de données provient des National Institutes of Diabetes and Digestive and Kidneys.\n",
    "L'objectif de l'ensemble de données est de prédire diagnostiquement si un patient souffre de diabète,\n",
    "sur la base de certaines mesures de diagnostic incluses dans l’ensemble de données. Plusieurs contraintes ont été imposées\n",
    "sur la sélection de ces instances dans une base de données plus large. En particulier, tous les patients ici sont des femmes\n",
    "avoir au moins 21 ans d'origine indienne Pima.2\n",
    "\n",
    "À partir de l'ensemble des données du fichier (.csv), nous pouvons trouver plusieurs variables, dont certaines sont indépendantes\n",
    "(plusieurs variables prédictives médicales) et une seule variable dépendante cible (résultat)."
   ]
  },
  {
   "cell_type": "markdown",
   "metadata": {},
   "source": [
    "##### Description des variables"
   ]
  },
  {
   "cell_type": "markdown",
   "metadata": {},
   "source": [
    "**Pregnancies** : Pour exprimer le nombre de grossesses\n",
    "\n",
    "**Glucose** : Pour exprimer le taux de glucose dans le sang\n",
    "\n",
    "**BloodPressure** : Pour exprimer la mesure de la pression artérielle\n",
    "\n",
    "**SkinThickness** : Pour exprimer l’épaisseur de la peau\n",
    "\n",
    "**Insulin** : Pour exprimer le taux d'insuline dans le sang\n",
    "\n",
    "**BMI** : Pour exprimer l'indice de masse corporelle\n",
    "\n",
    "**DiabetesPedigreeFonction** : Pour exprimer le pourcentage de diabète\n",
    "\n",
    "**Age** : Pour exprimer l'âge\n",
    "\n",
    "**Outcome** : Pour exprimer le résultat final, 1 est Oui et 0 est Non"
   ]
  },
  {
   "cell_type": "markdown",
   "metadata": {},
   "source": [
    "--------------------------------"
   ]
  },
  {
   "cell_type": "markdown",
   "metadata": {},
   "source": [
    "##### Importation des bibliothèques"
   ]
  },
  {
   "cell_type": "code",
   "execution_count": 2,
   "metadata": {},
   "outputs": [],
   "source": [
    "# importation des bibliothèques\n",
    "\n",
    "import pandas as pd \n",
    "import numpy as np \n",
    "import matplotlib.pyplot as plt \n",
    "import seaborn as sns\n",
    "\n",
    "from sklearn.model_selection import train_test_split\n",
    "from sklearn.linear_model import LinearRegression\n",
    "from sklearn.metrics import accuracy_score"
   ]
  },
  {
   "cell_type": "markdown",
   "metadata": {},
   "source": [
    "##### Importation des données"
   ]
  },
  {
   "cell_type": "code",
   "execution_count": 3,
   "metadata": {},
   "outputs": [
    {
     "data": {
      "text/html": [
       "<div>\n",
       "<style scoped>\n",
       "    .dataframe tbody tr th:only-of-type {\n",
       "        vertical-align: middle;\n",
       "    }\n",
       "\n",
       "    .dataframe tbody tr th {\n",
       "        vertical-align: top;\n",
       "    }\n",
       "\n",
       "    .dataframe thead th {\n",
       "        text-align: right;\n",
       "    }\n",
       "</style>\n",
       "<table border=\"1\" class=\"dataframe\">\n",
       "  <thead>\n",
       "    <tr style=\"text-align: right;\">\n",
       "      <th></th>\n",
       "      <th>Pregnancies</th>\n",
       "      <th>Glucose</th>\n",
       "      <th>BloodPressure</th>\n",
       "      <th>SkinThickness</th>\n",
       "      <th>Insulin</th>\n",
       "      <th>BMI</th>\n",
       "      <th>DiabetesPedigreeFunction</th>\n",
       "      <th>Age</th>\n",
       "      <th>Outcome</th>\n",
       "    </tr>\n",
       "  </thead>\n",
       "  <tbody>\n",
       "    <tr>\n",
       "      <th>0</th>\n",
       "      <td>6</td>\n",
       "      <td>148</td>\n",
       "      <td>72</td>\n",
       "      <td>35</td>\n",
       "      <td>0</td>\n",
       "      <td>33.6</td>\n",
       "      <td>0.627</td>\n",
       "      <td>50</td>\n",
       "      <td>1</td>\n",
       "    </tr>\n",
       "    <tr>\n",
       "      <th>1</th>\n",
       "      <td>1</td>\n",
       "      <td>85</td>\n",
       "      <td>66</td>\n",
       "      <td>29</td>\n",
       "      <td>0</td>\n",
       "      <td>26.6</td>\n",
       "      <td>0.351</td>\n",
       "      <td>31</td>\n",
       "      <td>0</td>\n",
       "    </tr>\n",
       "    <tr>\n",
       "      <th>2</th>\n",
       "      <td>8</td>\n",
       "      <td>183</td>\n",
       "      <td>64</td>\n",
       "      <td>0</td>\n",
       "      <td>0</td>\n",
       "      <td>23.3</td>\n",
       "      <td>0.672</td>\n",
       "      <td>32</td>\n",
       "      <td>1</td>\n",
       "    </tr>\n",
       "    <tr>\n",
       "      <th>3</th>\n",
       "      <td>1</td>\n",
       "      <td>89</td>\n",
       "      <td>66</td>\n",
       "      <td>23</td>\n",
       "      <td>94</td>\n",
       "      <td>28.1</td>\n",
       "      <td>0.167</td>\n",
       "      <td>21</td>\n",
       "      <td>0</td>\n",
       "    </tr>\n",
       "    <tr>\n",
       "      <th>4</th>\n",
       "      <td>0</td>\n",
       "      <td>137</td>\n",
       "      <td>40</td>\n",
       "      <td>35</td>\n",
       "      <td>168</td>\n",
       "      <td>43.1</td>\n",
       "      <td>2.288</td>\n",
       "      <td>33</td>\n",
       "      <td>1</td>\n",
       "    </tr>\n",
       "    <tr>\n",
       "      <th>...</th>\n",
       "      <td>...</td>\n",
       "      <td>...</td>\n",
       "      <td>...</td>\n",
       "      <td>...</td>\n",
       "      <td>...</td>\n",
       "      <td>...</td>\n",
       "      <td>...</td>\n",
       "      <td>...</td>\n",
       "      <td>...</td>\n",
       "    </tr>\n",
       "    <tr>\n",
       "      <th>763</th>\n",
       "      <td>10</td>\n",
       "      <td>101</td>\n",
       "      <td>76</td>\n",
       "      <td>48</td>\n",
       "      <td>180</td>\n",
       "      <td>32.9</td>\n",
       "      <td>0.171</td>\n",
       "      <td>63</td>\n",
       "      <td>0</td>\n",
       "    </tr>\n",
       "    <tr>\n",
       "      <th>764</th>\n",
       "      <td>2</td>\n",
       "      <td>122</td>\n",
       "      <td>70</td>\n",
       "      <td>27</td>\n",
       "      <td>0</td>\n",
       "      <td>36.8</td>\n",
       "      <td>0.340</td>\n",
       "      <td>27</td>\n",
       "      <td>0</td>\n",
       "    </tr>\n",
       "    <tr>\n",
       "      <th>765</th>\n",
       "      <td>5</td>\n",
       "      <td>121</td>\n",
       "      <td>72</td>\n",
       "      <td>23</td>\n",
       "      <td>112</td>\n",
       "      <td>26.2</td>\n",
       "      <td>0.245</td>\n",
       "      <td>30</td>\n",
       "      <td>0</td>\n",
       "    </tr>\n",
       "    <tr>\n",
       "      <th>766</th>\n",
       "      <td>1</td>\n",
       "      <td>126</td>\n",
       "      <td>60</td>\n",
       "      <td>0</td>\n",
       "      <td>0</td>\n",
       "      <td>30.1</td>\n",
       "      <td>0.349</td>\n",
       "      <td>47</td>\n",
       "      <td>1</td>\n",
       "    </tr>\n",
       "    <tr>\n",
       "      <th>767</th>\n",
       "      <td>1</td>\n",
       "      <td>93</td>\n",
       "      <td>70</td>\n",
       "      <td>31</td>\n",
       "      <td>0</td>\n",
       "      <td>30.4</td>\n",
       "      <td>0.315</td>\n",
       "      <td>23</td>\n",
       "      <td>0</td>\n",
       "    </tr>\n",
       "  </tbody>\n",
       "</table>\n",
       "<p>768 rows × 9 columns</p>\n",
       "</div>"
      ],
      "text/plain": [
       "     Pregnancies  Glucose  BloodPressure  SkinThickness  Insulin   BMI  \\\n",
       "0              6      148             72             35        0  33.6   \n",
       "1              1       85             66             29        0  26.6   \n",
       "2              8      183             64              0        0  23.3   \n",
       "3              1       89             66             23       94  28.1   \n",
       "4              0      137             40             35      168  43.1   \n",
       "..           ...      ...            ...            ...      ...   ...   \n",
       "763           10      101             76             48      180  32.9   \n",
       "764            2      122             70             27        0  36.8   \n",
       "765            5      121             72             23      112  26.2   \n",
       "766            1      126             60              0        0  30.1   \n",
       "767            1       93             70             31        0  30.4   \n",
       "\n",
       "     DiabetesPedigreeFunction  Age  Outcome  \n",
       "0                       0.627   50        1  \n",
       "1                       0.351   31        0  \n",
       "2                       0.672   32        1  \n",
       "3                       0.167   21        0  \n",
       "4                       2.288   33        1  \n",
       "..                        ...  ...      ...  \n",
       "763                     0.171   63        0  \n",
       "764                     0.340   27        0  \n",
       "765                     0.245   30        0  \n",
       "766                     0.349   47        1  \n",
       "767                     0.315   23        0  \n",
       "\n",
       "[768 rows x 9 columns]"
      ]
     },
     "execution_count": 3,
     "metadata": {},
     "output_type": "execute_result"
    }
   ],
   "source": [
    "# importation des données\n",
    "\n",
    "data = pd.read_csv(\"./diabetes.csv\")\n",
    "data"
   ]
  },
  {
   "cell_type": "markdown",
   "metadata": {},
   "source": [
    "Faisons une copie du dataframe data dans une nouvelle variable df que nous allons utiliser pur notre etude"
   ]
  },
  {
   "cell_type": "code",
   "execution_count": 4,
   "metadata": {},
   "outputs": [],
   "source": [
    "# copie du dataframe pour éviter de modifier les données originales\n",
    "\n",
    "df = data.copy()"
   ]
  },
  {
   "cell_type": "code",
   "execution_count": 5,
   "metadata": {},
   "outputs": [
    {
     "name": "stdout",
     "output_type": "stream",
     "text": [
      "<class 'pandas.core.frame.DataFrame'>\n",
      "RangeIndex: 768 entries, 0 to 767\n",
      "Data columns (total 9 columns):\n",
      " #   Column                    Non-Null Count  Dtype  \n",
      "---  ------                    --------------  -----  \n",
      " 0   Pregnancies               768 non-null    int64  \n",
      " 1   Glucose                   768 non-null    int64  \n",
      " 2   BloodPressure             768 non-null    int64  \n",
      " 3   SkinThickness             768 non-null    int64  \n",
      " 4   Insulin                   768 non-null    int64  \n",
      " 5   BMI                       768 non-null    float64\n",
      " 6   DiabetesPedigreeFunction  768 non-null    float64\n",
      " 7   Age                       768 non-null    int64  \n",
      " 8   Outcome                   768 non-null    int64  \n",
      "dtypes: float64(2), int64(7)\n",
      "memory usage: 54.1 KB\n"
     ]
    }
   ],
   "source": [
    "#affichage des informations sur les données\n",
    "\n",
    "df.info()"
   ]
  },
  {
   "cell_type": "code",
   "execution_count": 6,
   "metadata": {},
   "outputs": [
    {
     "data": {
      "text/plain": [
       "(768, 9)"
      ]
     },
     "execution_count": 6,
     "metadata": {},
     "output_type": "execute_result"
    }
   ],
   "source": [
    "df.shape"
   ]
  },
  {
   "cell_type": "code",
   "execution_count": 7,
   "metadata": {},
   "outputs": [
    {
     "data": {
      "text/html": [
       "<div>\n",
       "<style scoped>\n",
       "    .dataframe tbody tr th:only-of-type {\n",
       "        vertical-align: middle;\n",
       "    }\n",
       "\n",
       "    .dataframe tbody tr th {\n",
       "        vertical-align: top;\n",
       "    }\n",
       "\n",
       "    .dataframe thead th {\n",
       "        text-align: right;\n",
       "    }\n",
       "</style>\n",
       "<table border=\"1\" class=\"dataframe\">\n",
       "  <thead>\n",
       "    <tr style=\"text-align: right;\">\n",
       "      <th></th>\n",
       "      <th>count</th>\n",
       "      <th>mean</th>\n",
       "      <th>std</th>\n",
       "      <th>min</th>\n",
       "      <th>25%</th>\n",
       "      <th>50%</th>\n",
       "      <th>75%</th>\n",
       "      <th>max</th>\n",
       "    </tr>\n",
       "  </thead>\n",
       "  <tbody>\n",
       "    <tr>\n",
       "      <th>Pregnancies</th>\n",
       "      <td>768.0</td>\n",
       "      <td>3.845052</td>\n",
       "      <td>3.369578</td>\n",
       "      <td>0.000</td>\n",
       "      <td>1.00000</td>\n",
       "      <td>3.0000</td>\n",
       "      <td>6.00000</td>\n",
       "      <td>17.00</td>\n",
       "    </tr>\n",
       "    <tr>\n",
       "      <th>Glucose</th>\n",
       "      <td>768.0</td>\n",
       "      <td>120.894531</td>\n",
       "      <td>31.972618</td>\n",
       "      <td>0.000</td>\n",
       "      <td>99.00000</td>\n",
       "      <td>117.0000</td>\n",
       "      <td>140.25000</td>\n",
       "      <td>199.00</td>\n",
       "    </tr>\n",
       "    <tr>\n",
       "      <th>BloodPressure</th>\n",
       "      <td>768.0</td>\n",
       "      <td>69.105469</td>\n",
       "      <td>19.355807</td>\n",
       "      <td>0.000</td>\n",
       "      <td>62.00000</td>\n",
       "      <td>72.0000</td>\n",
       "      <td>80.00000</td>\n",
       "      <td>122.00</td>\n",
       "    </tr>\n",
       "    <tr>\n",
       "      <th>SkinThickness</th>\n",
       "      <td>768.0</td>\n",
       "      <td>20.536458</td>\n",
       "      <td>15.952218</td>\n",
       "      <td>0.000</td>\n",
       "      <td>0.00000</td>\n",
       "      <td>23.0000</td>\n",
       "      <td>32.00000</td>\n",
       "      <td>99.00</td>\n",
       "    </tr>\n",
       "    <tr>\n",
       "      <th>Insulin</th>\n",
       "      <td>768.0</td>\n",
       "      <td>79.799479</td>\n",
       "      <td>115.244002</td>\n",
       "      <td>0.000</td>\n",
       "      <td>0.00000</td>\n",
       "      <td>30.5000</td>\n",
       "      <td>127.25000</td>\n",
       "      <td>846.00</td>\n",
       "    </tr>\n",
       "    <tr>\n",
       "      <th>BMI</th>\n",
       "      <td>768.0</td>\n",
       "      <td>31.992578</td>\n",
       "      <td>7.884160</td>\n",
       "      <td>0.000</td>\n",
       "      <td>27.30000</td>\n",
       "      <td>32.0000</td>\n",
       "      <td>36.60000</td>\n",
       "      <td>67.10</td>\n",
       "    </tr>\n",
       "    <tr>\n",
       "      <th>DiabetesPedigreeFunction</th>\n",
       "      <td>768.0</td>\n",
       "      <td>0.471876</td>\n",
       "      <td>0.331329</td>\n",
       "      <td>0.078</td>\n",
       "      <td>0.24375</td>\n",
       "      <td>0.3725</td>\n",
       "      <td>0.62625</td>\n",
       "      <td>2.42</td>\n",
       "    </tr>\n",
       "    <tr>\n",
       "      <th>Age</th>\n",
       "      <td>768.0</td>\n",
       "      <td>33.240885</td>\n",
       "      <td>11.760232</td>\n",
       "      <td>21.000</td>\n",
       "      <td>24.00000</td>\n",
       "      <td>29.0000</td>\n",
       "      <td>41.00000</td>\n",
       "      <td>81.00</td>\n",
       "    </tr>\n",
       "    <tr>\n",
       "      <th>Outcome</th>\n",
       "      <td>768.0</td>\n",
       "      <td>0.348958</td>\n",
       "      <td>0.476951</td>\n",
       "      <td>0.000</td>\n",
       "      <td>0.00000</td>\n",
       "      <td>0.0000</td>\n",
       "      <td>1.00000</td>\n",
       "      <td>1.00</td>\n",
       "    </tr>\n",
       "  </tbody>\n",
       "</table>\n",
       "</div>"
      ],
      "text/plain": [
       "                          count        mean         std     min       25%  \\\n",
       "Pregnancies               768.0    3.845052    3.369578   0.000   1.00000   \n",
       "Glucose                   768.0  120.894531   31.972618   0.000  99.00000   \n",
       "BloodPressure             768.0   69.105469   19.355807   0.000  62.00000   \n",
       "SkinThickness             768.0   20.536458   15.952218   0.000   0.00000   \n",
       "Insulin                   768.0   79.799479  115.244002   0.000   0.00000   \n",
       "BMI                       768.0   31.992578    7.884160   0.000  27.30000   \n",
       "DiabetesPedigreeFunction  768.0    0.471876    0.331329   0.078   0.24375   \n",
       "Age                       768.0   33.240885   11.760232  21.000  24.00000   \n",
       "Outcome                   768.0    0.348958    0.476951   0.000   0.00000   \n",
       "\n",
       "                               50%        75%     max  \n",
       "Pregnancies                 3.0000    6.00000   17.00  \n",
       "Glucose                   117.0000  140.25000  199.00  \n",
       "BloodPressure              72.0000   80.00000  122.00  \n",
       "SkinThickness              23.0000   32.00000   99.00  \n",
       "Insulin                    30.5000  127.25000  846.00  \n",
       "BMI                        32.0000   36.60000   67.10  \n",
       "DiabetesPedigreeFunction    0.3725    0.62625    2.42  \n",
       "Age                        29.0000   41.00000   81.00  \n",
       "Outcome                     0.0000    1.00000    1.00  "
      ]
     },
     "execution_count": 7,
     "metadata": {},
     "output_type": "execute_result"
    }
   ],
   "source": [
    "\n",
    "df.describe().T"
   ]
  },
  {
   "cell_type": "markdown",
   "metadata": {},
   "source": [
    "Verifions s'il y a des valeurs manquantes dans notre jeu de données"
   ]
  },
  {
   "cell_type": "code",
   "execution_count": 8,
   "metadata": {},
   "outputs": [
    {
     "data": {
      "text/plain": [
       "Pregnancies                 0\n",
       "Glucose                     0\n",
       "BloodPressure               0\n",
       "SkinThickness               0\n",
       "Insulin                     0\n",
       "BMI                         0\n",
       "DiabetesPedigreeFunction    0\n",
       "Age                         0\n",
       "Outcome                     0\n",
       "dtype: int64"
      ]
     },
     "execution_count": 8,
     "metadata": {},
     "output_type": "execute_result"
    }
   ],
   "source": [
    "df.isnull().sum()"
   ]
  },
  {
   "cell_type": "code",
   "execution_count": 9,
   "metadata": {},
   "outputs": [
    {
     "data": {
      "text/plain": [
       "<Axes: xlabel='Outcome', ylabel='count'>"
      ]
     },
     "execution_count": 9,
     "metadata": {},
     "output_type": "execute_result"
    },
    {
     "data": {
      "image/png": "[encoded data removed]",
      "text/plain": [
       "<Figure size 640x480 with 1 Axes>"
      ]
     },
     "metadata": {},
     "output_type": "display_data"
    }
   ],
   "source": [
    "# Countplot\n",
    "\n",
    "sns.countplot(x=\"Outcome\", data=df)"
   ]
  },
  {
   "cell_type": "code",
   "execution_count": 10,
   "metadata": {},
   "outputs": [
    {
     "data": {
      "text/plain": [
       "<Axes: >"
      ]
     },
     "execution_count": 10,
     "metadata": {},
     "output_type": "execute_result"
    },
    {
     "data": {
      "image/png": "[encoded data removed]",
      "text/plain": [
       "<Figure size 640x480 with 2 Axes>"
      ]
     },
     "metadata": {},
     "output_type": "display_data"
    }
   ],
   "source": [
    "# Making a correlation matrix\n",
    "\n",
    "correlation = df.corr()\n",
    "sns.heatmap(correlation, cmap='Wistia', annot=True)"
   ]
  },
  {
   "cell_type": "markdown",
   "metadata": {},
   "source": [
    "Nous constatons que les attributs comme Glucose , BloodPressure , SkinThickness, Insulin, et BMI contiennent 0 comme valeur.\n",
    "Ce qui pourrait biaisé notre etude. Nous allons corrigé cela, dans un un premier temps en remplaçant les valeurs 0 par Nan et ensuite remplacé les Nan par la moyenne ou la mediane en fonction du type de notre variable"
   ]
  },
  {
   "cell_type": "code",
   "execution_count": 11,
   "metadata": {},
   "outputs": [],
   "source": [
    "# Remplaçons les valeurs 0 des variables  ['Glucose','BloodPressure','SkinThickness','Insulin','BMI'] par NaN\n",
    "df_new = df\n",
    "df_new[['Glucose','BloodPressure','SkinThickness','Insulin','BMI']] = df_new[['Glucose','BloodPressure','SkinThickness','Insulin','BMI']].replace(0,np.NaN)"
   ]
  },
  {
   "cell_type": "code",
   "execution_count": 12,
   "metadata": {},
   "outputs": [
    {
     "data": {
      "text/plain": [
       "Pregnancies                   0\n",
       "Glucose                       5\n",
       "BloodPressure                35\n",
       "SkinThickness               227\n",
       "Insulin                     374\n",
       "BMI                          11\n",
       "DiabetesPedigreeFunction      0\n",
       "Age                           0\n",
       "Outcome                       0\n",
       "dtype: int64"
      ]
     },
     "execution_count": 12,
     "metadata": {},
     "output_type": "execute_result"
    }
   ],
   "source": [
    "# affichons le nombre de NaN dans notre jeu de données\n",
    "df_new.isnull().sum()"
   ]
  },
  {
   "cell_type": "code",
   "execution_count": 13,
   "metadata": {},
   "outputs": [],
   "source": [
    "# Replaçons les NaN par la moyenne, mediane en fonction des variables \n",
    "\n",
    "df_new['Glucose'].fillna(df_new['Glucose'].mean(), inplace=True)\n",
    "df_new['BloodPressure'].fillna(df_new['BloodPressure'].mean(), inplace=True)\n",
    "df_new['SkinThickness'].fillna(df_new['SkinThickness'].median(), inplace=True)\n",
    "df_new['Insulin'].fillna(df_new['Insulin'].median(), inplace=True)\n",
    "df_new['BMI'].fillna(df_new['BMI'].median(), inplace=True)"
   ]
  },
  {
   "cell_type": "code",
   "execution_count": 14,
   "metadata": {},
   "outputs": [
    {
     "data": {
      "text/plain": [
       "Pregnancies                 0\n",
       "Glucose                     0\n",
       "BloodPressure               0\n",
       "SkinThickness               0\n",
       "Insulin                     0\n",
       "BMI                         0\n",
       "DiabetesPedigreeFunction    0\n",
       "Age                         0\n",
       "Outcome                     0\n",
       "dtype: int64"
      ]
     },
     "execution_count": 14,
     "metadata": {},
     "output_type": "execute_result"
    }
   ],
   "source": [
    "# affichons le nombre de NaN dans notre jeu de données\n",
    "\n",
    "df_new.isnull().sum()"
   ]
  },
  {
   "cell_type": "markdown",
   "metadata": {},
   "source": [
    "## Régression linéaire"
   ]
  },
  {
   "cell_type": "code",
   "execution_count": 15,
   "metadata": {},
   "outputs": [],
   "source": [
    "# regression lineaire\n",
    "# Divisons notre jeu de données en variables dépendantes et indépendantes\n",
    "\n",
    "y = df_new['Outcome']\n",
    "X = df_new.drop(columns='Outcome')"
   ]
  },
  {
   "cell_type": "code",
   "execution_count": 16,
   "metadata": {},
   "outputs": [],
   "source": [
    "# Divisons notre jeu de données en jeu d'entrainement et jeu de test\n",
    "\n",
    "X_train, X_test, y_train, y_test = train_test_split(X, y, test_size=0.25, stratify=y ,random_state=2)"
   ]
  },
  {
   "cell_type": "code",
   "execution_count": 17,
   "metadata": {},
   "outputs": [
    {
     "data": {
      "text/plain": [
       "array([ 0.25841668,  0.296013  ,  0.64304006,  0.65033495,  0.81669429,\n",
       "        0.36091908,  0.99699782,  0.80450865,  0.62248991,  0.11101055,\n",
       "        0.29000175,  0.12759134,  0.06372254,  0.47414741,  0.72160706,\n",
       "        0.55819286,  0.3319321 ,  0.38180439,  0.15721446,  0.03530502,\n",
       "        0.20085238, -0.21428201,  0.40076428,  0.09249724,  0.69167719,\n",
       "        0.0810715 ,  0.37382863,  0.29993259,  0.47428437,  0.51228788,\n",
       "        0.04693256,  0.48427586,  0.17479363,  0.25844954,  0.2907656 ,\n",
       "        0.18388288,  0.05665417,  0.80139104,  0.15843874,  0.48088291,\n",
       "        0.03829846,  0.2739762 ,  0.11596775, -0.07721474,  0.05291138,\n",
       "        0.2617763 ,  0.068767  ,  0.16457271,  0.47497181,  0.34584992,\n",
       "        0.45550838,  0.00383443,  0.41841923,  0.15931272,  0.60903047,\n",
       "        0.76796856,  0.16435917,  0.19545936,  0.56074257,  0.52088736,\n",
       "        0.42016606, -0.17116372, -0.00913134,  0.27117681,  0.42523852,\n",
       "        0.43437778,  0.15507751,  0.08926215,  1.03968148,  0.18232529,\n",
       "        0.31043974,  0.47381451, -0.23975018, -0.01828448, -0.06692897,\n",
       "        0.13870043,  0.18185105,  0.64894636,  0.35920329,  0.41767375,\n",
       "        0.45982718,  0.91961477,  0.19481065,  0.27751068,  0.25614967,\n",
       "        0.02239112,  0.43185246,  0.16692756,  0.29031833,  0.098243  ,\n",
       "        0.03936241,  0.22082747,  0.05365098, -0.07040487,  0.73089737,\n",
       "        0.5046099 ,  0.29106871,  0.0475574 ,  0.77723428, -0.11755644,\n",
       "        0.1134966 ,  0.23605228,  0.54924156,  0.22329053,  0.07544466,\n",
       "        0.03359774,  0.57262668,  0.33655069,  0.62609506,  0.25540214,\n",
       "        0.63119632,  0.33275007,  0.3746158 ,  0.31274869,  0.3179102 ,\n",
       "        0.48489534,  0.36927274, -0.2351222 ,  0.4384164 ,  0.38415904,\n",
       "        0.28077083,  0.73389158,  0.01148774,  0.0848786 ,  0.55375044,\n",
       "       -0.03782304,  0.65423329,  0.28974017,  0.42537673,  0.25783133,\n",
       "       -0.25270015,  0.75388168,  0.28485903,  0.14144027,  0.73338728,\n",
       "        0.2597151 ,  0.35744943,  0.32662263,  0.08297664,  0.3272326 ,\n",
       "        0.04580141,  0.28097952, -0.09003594,  0.23695722,  0.33147938,\n",
       "        0.08858583,  0.04552619,  0.41667513,  0.19142673,  0.90735246,\n",
       "        0.5686092 ,  0.1807539 ,  0.4116404 ,  0.50419753,  0.42056581,\n",
       "        0.33974241,  0.06819491,  0.22665577,  0.63102696,  0.27141591,\n",
       "        0.14703612,  0.33683368,  0.60102513,  0.42472492,  0.73381037,\n",
       "        0.12324178, -0.02976613,  0.50650303,  0.20056156,  0.25032229,\n",
       "        0.29639731,  0.05868684,  0.5185122 ,  0.8734856 ,  0.27265305,\n",
       "        0.18407106,  0.06886611,  0.45771572, -0.10378951,  0.20834934,\n",
       "        0.3305555 ,  0.48096138,  0.48709718,  1.05171456,  0.87857528,\n",
       "        0.01651512,  0.1382697 ,  0.51058584,  0.26651523,  0.55556477,\n",
       "        0.24981311,  0.27381071])"
      ]
     },
     "execution_count": 17,
     "metadata": {},
     "output_type": "execute_result"
    }
   ],
   "source": [
    "# Créons un modèle de régression linéaire\n",
    "model = LinearRegression() \n",
    "\n",
    "# Entraînons le modèle de régression linéaire avec les données d'entraînement\n",
    "model.fit(X_train, y_train) \n",
    "\n",
    "# Créons les prédictions sur le jeu de test\n",
    "y_pred_train = model.predict(X_test) \n",
    "\n",
    "\n",
    "#y_pred_train = np.where(y_pred_train > 0.5, 1, 0)\n",
    "y_pred_train"
   ]
  },
  {
   "cell_type": "markdown",
   "metadata": {},
   "source": [
    "Affichons le score de cette fonction de regression\n",
    "Etant donné que c'est une fonction de regression linéaire nous utiliserons le coefficient de determination R2 pour determiner le score de notre regression linéaire"
   ]
  },
  {
   "cell_type": "code",
   "execution_count": 18,
   "metadata": {},
   "outputs": [
    {
     "data": {
      "text/plain": [
       "0.27048311706200123"
      ]
     },
     "execution_count": 18,
     "metadata": {},
     "output_type": "execute_result"
    }
   ],
   "source": [
    "from sklearn.metrics import r2_score\n",
    "\n",
    "r2_score(y_test, y_pred_train)\n"
   ]
  },
  {
   "cell_type": "markdown",
   "metadata": {},
   "source": [
    "Le score R2 de 0.27048311706200123 indique que le modèle de régression linéaire explique environ 27% de la variance des données. Cela signifie que le modèle n'est pas très performant pour prédire les valeurs cibles. Un score R2 plus proche de 1 indiquerait une meilleure adéquation du modèle aux données."
   ]
  },
  {
   "cell_type": "markdown",
   "metadata": {},
   "source": [
    "-----------"
   ]
  },
  {
   "cell_type": "markdown",
   "metadata": {},
   "source": [
    "Déterminons à l'aide d'une validation croisée l'attribut à éliminerafin d'améliorer le score de notre regression lineaire\n"
   ]
  },
  {
   "cell_type": "code",
   "execution_count": 41,
   "metadata": {},
   "outputs": [
    {
     "name": "stdout",
     "output_type": "stream",
     "text": [
      "L attribut à éliminer est : Pregnancies\n",
      "Score : 1.0\n"
     ]
    }
   ],
   "source": [
    "# la fonction qui va parcourir nous attributs et éliminer celui qui a le plus faible score\n",
    "\n",
    "from sklearn.model_selection import cross_val_score\n",
    "\n",
    "scores = []\n",
    "\n",
    "for attribute in df.columns[:-1]:\n",
    "\n",
    "    X_new = df.drop(attribute, axis=1)\n",
    "    \n",
    " \n",
    "    X_train, X_test, y_train, y_test = train_test_split(X_new, y, test_size=0.2, random_state=42)\n",
    "    \n",
    "   \n",
    "    model = LinearRegression()\n",
    "    model.fit(X_train, y_train)\n",
    "    \n",
    "    \n",
    "    cv_score = cross_val_score(model, X_train, y_train, cv=5).mean()\n",
    "    \n",
    "   \n",
    "    scores.append((attribute, cv_score))\n",
    "\n",
    "\n",
    "scores.sort(key=lambda x: x[1], reverse=True)\n",
    "\n",
    "\n",
    "best_attribute = scores[0][0]\n",
    "print(\"L attribut à éliminer est :\", best_attribute)\n",
    "\n",
    "\n"
   ]
  },
  {
   "cell_type": "markdown",
   "metadata": {},
   "source": [
    "Grâce a notre fonction, nous avons déterminer que la variable à eliminer pour ameliorer le score de notre regresion est la variable Pregnancies."
   ]
  },
  {
   "cell_type": "markdown",
   "metadata": {},
   "source": [
    "Faisons la regression en elimnant la variable Pregnancies"
   ]
  },
  {
   "cell_type": "code",
   "execution_count": 42,
   "metadata": {},
   "outputs": [],
   "source": [
    "# Linear Regression\n",
    "\n",
    "y2 = df_new['Outcome']\n",
    "X2 = df_new.drop(columns=['Outcome', 'Pregnancies'])"
   ]
  },
  {
   "cell_type": "code",
   "execution_count": 43,
   "metadata": {},
   "outputs": [
    {
     "data": {
      "text/plain": [
       "array([ 0.26059077,  0.40416585,  0.75701702,  0.65567356,  0.74972532,\n",
       "        0.41404103,  0.94870407,  0.75629265,  0.56801478,  0.17371992,\n",
       "        0.34810578,  0.12065575,  0.04251002,  0.46025323,  0.76722148,\n",
       "        0.57566744,  0.25549937,  0.34977416,  0.17985139,  0.06957586,\n",
       "        0.18103838, -0.23228101,  0.42395556,  0.13726173,  0.63950998,\n",
       "        0.08272779,  0.47695371,  0.31555218,  0.46797598,  0.65100844,\n",
       "        0.04077928,  0.44283926,  0.21290938,  0.30083426,  0.30415882,\n",
       "        0.14782608,  0.08884145,  0.71178669,  0.15219728,  0.56183547,\n",
       "        0.05415954,  0.22102936,  0.10320923, -0.00593041,  0.05567459,\n",
       "        0.30980217,  0.11072846,  0.21083886,  0.54335146,  0.36306028,\n",
       "        0.39171213, -0.03495461,  0.40986771,  0.18659502,  0.67600143,\n",
       "        0.72083659,  0.10451643,  0.24004255,  0.44159033,  0.36710286,\n",
       "        0.44698012, -0.14639657,  0.00450109,  0.45003811,  0.36682683,\n",
       "        0.47597702,  0.11533525,  0.07875968,  1.07420648,  0.16692472,\n",
       "        0.37913975,  0.48345517, -0.23753453, -0.00973492, -0.05376425,\n",
       "        0.17592535,  0.23821722,  0.70204606,  0.33881202,  0.47705488,\n",
       "        0.4602919 ,  0.71490864,  0.23954852,  0.21003109,  0.29971652,\n",
       "        0.07373346,  0.33910459,  0.09964889,  0.33241034,  0.09441688,\n",
       "        0.09262758,  0.20050275,  0.09056482, -0.06182337,  0.56817763,\n",
       "        0.46185141,  0.33989248, -0.01161369,  0.8043293 , -0.12591465,\n",
       "        0.11965008,  0.16415527,  0.56309266,  0.32343478,  0.01547364,\n",
       "        0.0639329 ,  0.59119698,  0.32513317,  0.62996413,  0.23273389,\n",
       "        0.54400121,  0.38256726,  0.40323958,  0.34783703,  0.25820941,\n",
       "        0.56001089,  0.27300744, -0.21420996,  0.47031513,  0.39844639,\n",
       "        0.31167738,  0.61553238,  0.01454138,  0.1882256 ,  0.53616296,\n",
       "       -0.08020585,  0.71750001,  0.31416703,  0.35857463,  0.27593288,\n",
       "       -0.19395234,  0.81745466,  0.26893912,  0.14907036,  0.68887332,\n",
       "        0.2079153 ,  0.35008722,  0.26532655,  0.08490413,  0.35131349,\n",
       "        0.11650405,  0.31704516, -0.06346423,  0.3346192 ,  0.36295755,\n",
       "        0.10962357,  0.02791931,  0.23457692,  0.2309247 ,  0.96182427,\n",
       "        0.48852201,  0.23915051,  0.43151726,  0.48290725,  0.45141897,\n",
       "        0.33686646,  0.14813367,  0.24108703,  0.57086249,  0.27375318,\n",
       "        0.0865748 ,  0.32809381,  0.58728482,  0.49376291,  0.83876074,\n",
       "        0.14536311,  0.01787018,  0.53554496,  0.29750675,  0.17855727,\n",
       "        0.29885444,  0.02801038,  0.46577371,  0.74159799,  0.25673341,\n",
       "        0.13100109,  0.04635932,  0.44719218, -0.06803377,  0.23188149,\n",
       "        0.33567665,  0.53075929,  0.61628319,  1.03627999,  0.79698084,\n",
       "        0.03753595,  0.17997852,  0.4484484 ,  0.29417389,  0.64481401,\n",
       "        0.26713987,  0.12323775])"
      ]
     },
     "execution_count": 43,
     "metadata": {},
     "output_type": "execute_result"
    }
   ],
   "source": [
    "\n",
    "X_train2, X_test2, y_train2, y_test2 = train_test_split(X2, y2, test_size=0.25, stratify=y2 ,random_state=2)\n",
    "\n",
    "model = LinearRegression() \n",
    "model.fit(X_train2, y_train2) \n",
    "y_pred_train = model.predict(X_test2) \n",
    "\n",
    "\n",
    "y_pred_train\n"
   ]
  },
  {
   "cell_type": "code",
   "execution_count": 44,
   "metadata": {},
   "outputs": [
    {
     "data": {
      "text/plain": [
       "0.26364297075436005"
      ]
     },
     "execution_count": 44,
     "metadata": {},
     "output_type": "execute_result"
    }
   ],
   "source": [
    "r2_score(y_test2, y_pred_train)"
   ]
  },
  {
   "cell_type": "code",
   "execution_count": 22,
   "metadata": {},
   "outputs": [
    {
     "data": {
      "text/plain": [
       "0.26364297075436005"
      ]
     },
     "execution_count": 22,
     "metadata": {},
     "output_type": "execute_result"
    }
   ],
   "source": [
    "r2_score(y_test2, y_pred_train)"
   ]
  },
  {
   "cell_type": "markdown",
   "metadata": {},
   "source": [
    "Le score R2 de 0,26364297075436005 indique que le modèle de régression linéaire n'explique que 26,36 % de la variance de la variable cible. Cela signifie que les prédictions du modèle ne sont pas très précises et qu'il existe une grande variabilité inexpliquée dans les données."
   ]
  },
  {
   "cell_type": "markdown",
   "metadata": {},
   "source": [
    "### Recommandation"
   ]
  },
  {
   "cell_type": "markdown",
   "metadata": {},
   "source": [
    "Comme recommandation nous pouvons dire qu'il serait plus convenable de garder la variable pregnancies pour notre etude et pour la realisation de la regression lineaire .\n",
    "Parceque comme nous piuvons le remarquer la suppresion de cette variable a eu un impact sur le scode de la regression lineaire."
   ]
  }
 ],
 "metadata": {
  "kernelspec": {
   "display_name": "base",
   "language": "python",
   "name": "python3"
  },
  "language_info": {
   "codemirror_mode": {
    "name": "ipython",
    "version": 3
   },
   "file_extension": ".py",
   "mimetype": "text/x-python",
   "name": "python",
   "nbconvert_exporter": "python",
   "pygments_lexer": "ipython3",
   "version": "3.11.5"
  }
 },
 "nbformat": 4,
 "nbformat_minor": 2
}
